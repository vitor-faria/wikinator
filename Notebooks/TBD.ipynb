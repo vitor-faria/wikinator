{
 "cells": [
  {
   "cell_type": "code",
   "execution_count": 1,
   "metadata": {},
   "outputs": [],
   "source": [
    "import pandas as pd\n",
    "from SPARQLWrapper import SPARQLWrapper, JSON\n"
   ]
  },
  {
   "cell_type": "code",
   "execution_count": null,
   "metadata": {},
   "outputs": [],
   "source": [
    "def analyzeOccurences(query): \n",
    "    sparql = SPARQLWrapper(\"http://dbpedia.org/sparql\")\n",
    "    sparql.setReturnFormat(JSON)\n",
    "\n",
    "    sparql.setQuery(query)\n",
    "\n",
    "    resultSet = []\n",
    "\n",
    "    try:\n",
    "        queryResult = sparql.queryAndConvert()\n",
    "\n",
    "        for res in queryResult['results']['bindings']:\n",
    "            resultSet.append({\"Object\": res['object']['value'], \"Predicate\": res['predicate']\n",
    "                             ['value'], \"Occurences\": int(res['occurences']['value'])})\n",
    "    except Exception as e: \n",
    "        print(e)\n",
    "\n",
    "    return resultSet"
   ]
  },
  {
   "cell_type": "code",
   "execution_count": 65,
   "metadata": {},
   "outputs": [],
   "source": [
    "\n",
    "def selectNextPredicateObject(resultSet = []): \n",
    "    optimalOccurences = resultSet[0][\"Occurences\"]/2\n",
    "\n",
    "    for result in resultSet: \n",
    "        result['Occurences'] = abs(optimalOccurences - result['Occurences'])\n",
    "        \n",
    "    resultSet = sorted(resultSet, key= lambda x: x['Occurences'])\n",
    "\n",
    "    askNextQuestion(resultSet)\n"
   ]
  },
  {
   "cell_type": "code",
   "execution_count": 73,
   "metadata": {},
   "outputs": [],
   "source": [
    "def askNextQuestion(resultSet): \n",
    "    if(len(resultSet) > 5): \n",
    "        question = (\"Does your character have the following relation: \" + resultSet[0][\"Predicate\"].rsplit(\"/\", 1)[-1] + \" ---> \" + resultSet[0][\"Object\"].rsplit(\"/\", 1)[-1])\n",
    "        print(question)\n"
   ]
  },
  {
   "cell_type": "code",
   "execution_count": 74,
   "metadata": {},
   "outputs": [
    {
     "name": "stdout",
     "output_type": "stream",
     "text": [
      "Does your character have the following relation: wikiPageUsesTemplate ---> Template:Reflist\n"
     ]
    }
   ],
   "source": [
    "resultSet= ([{'Object': 'http://dbpedia.org/ontology/FictionalCharacter', 'Predicate': 'http://www.w3.org/1999/02/22-rdf-syntax-ns#type', 'Occurences': 26000}, {'Object': 'http://www.w3.org/2002/07/owl#Thing', 'Predicate': 'http://www.w3.org/1999/02/22-rdf-syntax-ns#type', 'Occurences': 19749}, {'Object': 'http://www.ontologydesignpatterns.org/ont/dul/DUL.owl#Agent', 'Predicate': 'http://www.w3.org/1999/02/22-rdf-syntax-ns#type', 'Occurences': 18996}, {'Object': 'http://dbpedia.org/ontology/Agent', 'Predicate': 'http://www.w3.org/1999/02/22-rdf-syntax-ns#type', 'Occurences': 18996}, {'Object': 'http://www.wikidata.org/entity/Q24229398', 'Predicate': 'http://www.w3.org/1999/02/22-rdf-syntax-ns#type', 'Occurences': 18996}, {'Object': 'http://www.wikidata.org/entity/Q95074', 'Predicate': 'http://www.w3.org/1999/02/22-rdf-syntax-ns#type', 'Occurences': 18954}, {'Object': 'http://dbpedia.org/resource/Template:Reflist', 'Predicate': 'http://dbpedia.org/property/wikiPageUsesTemplate', 'Occurences': 14179}, {'Object': 'http://dbpedia.org/resource/Character', 'Predicate': 'http://purl.org/linguistics/gold/hypernym', 'Occurences': 11302}, {'Object': 'http://dbpedia.org/class/yago/Abstraction100002137', 'Predicate': 'http://www.w3.org/1999/02/22-rdf-syntax-ns#type', 'Occurences': 11185}, {'Object': 'http://dbpedia.org/class/yago/PsychologicalFeature100023100', 'Predicate': 'http://www.w3.org/1999/02/22-rdf-syntax-ns#type', 'Occurences': 10922}, {'Object': 'http://dbpedia.org/class/yago/Cognition100023271', 'Predicate': 'http://www.w3.org/1999/02/22-rdf-syntax-ns#type', 'Occurences': 10782}, {'Object': 'http://dbpedia.org/class/yago/Ability105616246', 'Predicate': 'http://www.w3.org/1999/02/22-rdf-syntax-ns#type', 'Occurences': 10678}, {'Object': 'http://dbpedia.org/class/yago/Creativity105624700', 'Predicate': 'http://www.w3.org/1999/02/22-rdf-syntax-ns#type', 'Occurences': 10676}, {'Object': 'http://dbpedia.org/class/yago/Imagination105625465', 'Predicate': 'http://www.w3.org/1999/02/22-rdf-syntax-ns#type', 'Occurences': 10674}, {'Object': 'http://dbpedia.org/class/yago/ImaginaryBeing109483738', 'Predicate': 'http://www.w3.org/1999/02/22-rdf-syntax-ns#type', 'Occurences': 10674}, {'Object': 'http://dbpedia.org/class/yago/FictionalCharacter109587565', 'Predicate': 'http://www.w3.org/1999/02/22-rdf-syntax-ns#type', 'Occurences': 10392}, {'Object': 'http://dbpedia.org/resource/Template:Short_description', 'Predicate': 'http://dbpedia.org/property/wikiPageUsesTemplate', 'Occurences': 8665}, {'Object': 'http://dbpedia.org/resource/Template:Infobox_character', 'Predicate': 'http://dbpedia.org/property/wikiPageUsesTemplate', 'Occurences': 6086}, {'Object': 'http://dbpedia.org/ontology/SoapCharacter', 'Predicate': 'http://www.w3.org/1999/02/22-rdf-syntax-ns#type', 'Occurences': 6082}, {'Object': 'http://dbpedia.org/class/yago/PhysicalEntity100001930', 'Predicate': 'http://www.w3.org/1999/02/22-rdf-syntax-ns#type', 'Occurences': 4253}, {'Object': 'http://dbpedia.org/class/yago/Object100002684', 'Predicate': 'http://www.w3.org/1999/02/22-rdf-syntax-ns#type', 'Occurences': 4033}, {'Object': 'http://dbpedia.org/class/yago/Whole100003553', 'Predicate': 'http://www.w3.org/1999/02/22-rdf-syntax-ns#type', 'Occurences': 4007}, {'Object': 'http://dbpedia.org/resource/Character_(arts)', 'Predicate': 'http://dbpedia.org/ontology/wikiPageWikiLink', 'Occurences': 3979}, {'Object': 'http://dbpedia.org/class/yago/LivingThing100004258', 'Predicate': 'http://www.w3.org/1999/02/22-rdf-syntax-ns#type', 'Occurences': 3666}, {'Object': 'http://dbpedia.org/class/yago/Organism100004475', 'Predicate': 'http://www.w3.org/1999/02/22-rdf-syntax-ns#type', 'Occurences': 3666}, {'Object': 'http://dbpedia.org/ontology/ComicsCharacter', 'Predicate': 'http://www.w3.org/1999/02/22-rdf-syntax-ns#type', 'Occurences': 3559}, {'Object': 'http://umbel.org/umbel/rc/FictionalCharacter', 'Predicate': 'http://www.w3.org/1999/02/22-rdf-syntax-ns#type', 'Occurences': 3526}, {'Object': 'http://dbpedia.org/resource/Template:Infobox_comics_character', 'Predicate': 'http://dbpedia.org/property/wikiPageUsesTemplate', 'Occurences': 3112}, {'Object': 'http://dbpedia.org/class/yago/YagoLegalActorGeo', 'Predicate': 'http://www.w3.org/1999/02/22-rdf-syntax-ns#type', 'Occurences': 3084}, {'Object': 'http://dbpedia.org/class/yago/YagoLegalActor', 'Predicate': 'http://www.w3.org/1999/02/22-rdf-syntax-ns#type', 'Occurences': 3057}, {'Object': 'http://dbpedia.org/class/yago/CausalAgent100007347', 'Predicate': 'http://www.w3.org/1999/02/22-rdf-syntax-ns#type', 'Occurences': 3027}, {'Object': 'http://dbpedia.org/class/yago/Person100007846', 'Predicate': 'http://www.w3.org/1999/02/22-rdf-syntax-ns#type', 'Occurences': 3023}, {'Object': 'http://dbpedia.org/resource/Template:Infobox_soap_character', 'Predicate': 'http://dbpedia.org/property/wikiPageUsesTemplate', 'Occurences': 2508}, {'Object': 'http://dbpedia.org/resource/Template:Use_dmy_dates', 'Predicate': 'http://dbpedia.org/property/wikiPageUsesTemplate', 'Occurences': 2454}, {'Object': 'http://umbel.org/umbel/rc/CartoonCharacter', 'Predicate': 'http://www.w3.org/1999/02/22-rdf-syntax-ns#type', 'Occurences': 2275}, {'Object': 'Male', 'Predicate': 'http://dbpedia.org/property/gender', 'Occurences': 2114}, {'Object': 'http://dbpedia.org/resource/Marvel_Comics', 'Predicate': 'http://dbpedia.org/ontology/wikiPageWikiLink', 'Occurences': 2096}, {'Object': 'Former; regular', 'Predicate': 'http://dbpedia.org/ontology/classification', 'Occurences': 1914}, {'Object': 'http://dbpedia.org/resource/American_comic_book', 'Predicate': 'http://dbpedia.org/ontology/wikiPageWikiLink', 'Occurences': 1853}, {'Object': 'http://dbpedia.org/resource/Template:Citation_needed', 'Predicate': 'http://dbpedia.org/property/wikiPageUsesTemplate', 'Occurences': 1791}, {'Object': 'http://dbpedia.org/resource/Template:Main', 'Predicate': 'http://dbpedia.org/property/wikiPageUsesTemplate', 'Occurences': 1640}, {'Object': 'http://dbpedia.org/resource/Marvel_Comics', 'Predicate': 'http://dbpedia.org/property/publisher', 'Occurences': 1601}, {'Object': 'http://dbpedia.org/resource/DC_Comics', 'Predicate': 'http://dbpedia.org/ontology/wikiPageWikiLink', 'Occurences': 1591}, {'Object': 'http://dbpedia.org/resource/Template:Authority_control', 'Predicate': 'http://dbpedia.org/property/wikiPageUsesTemplate', 'Occurences': 1450}, {'Object': 'http://dbpedia.org/resource/Template:Cite_book', 'Predicate': 'http://dbpedia.org/property/wikiPageUsesTemplate', 'Occurences': 1440}, {'Object': 'http://dbpedia.org/resource/Category:Male_characters_in_television', 'Predicate': 'http://purl.org/dc/terms/subject', 'Occurences': 1371}, {'Object': 'http://dbpedia.org/resource/Category:Male_characters_in_television', 'Predicate': 'http://dbpedia.org/ontology/wikiPageWikiLink', 'Occurences': 1371}, {'Object': 'http://dbpedia.org/resource/Soap_opera', 'Predicate': 'http://dbpedia.org/ontology/wikiPageWikiLink', 'Occurences': 1345}, {'Object': 'http://dbpedia.org/resource/Template:ISBN', 'Predicate': 'http://dbpedia.org/property/wikiPageUsesTemplate', 'Occurences': 1294}, {'Object': 'Former; recurring', 'Predicate': 'http://dbpedia.org/ontology/classification', 'Occurences': 1255}, {'Object': 'http://dbpedia.org/resource/Category:Female_characters_in_television', 'Predicate': 'http://purl.org/dc/terms/subject', 'Occurences': 1234}, {'Object': 'http://dbpedia.org/resource/Category:Female_characters_in_television', 'Predicate': 'http://dbpedia.org/ontology/wikiPageWikiLink', 'Occurences': 1234}, {'Object': 'http://dbpedia.org/resource/Template:More_citations_needed', 'Predicate': 'http://dbpedia.org/property/wikiPageUsesTemplate', 'Occurences': 1231}, {'Object': 'http://dbpedia.org/resource/Template:Use_mdy_dates', 'Predicate': 'http://dbpedia.org/property/wikiPageUsesTemplate', 'Occurences': 1216}, {'Object': 'http://dbpedia.org/resource/Superhero', 'Predicate': 'http://dbpedia.org/ontology/wikiPageWikiLink', 'Occurences': 1198}, {'Object': 'http://dbpedia.org/resource/Greek_mythology', 'Predicate': 'http://dbpedia.org/ontology/wikiPageWikiLink', 'Occurences': 1195}, {'Object': 'http://dbpedia.org/resource/DC_Comics', 'Predicate': 'http://dbpedia.org/property/publisher', 'Occurences': 1183}])\n",
    "\n",
    "selectNextPredicateObject(resultSet)"
   ]
  }
 ],
 "metadata": {
  "kernelspec": {
   "display_name": "Python 3.10.8 64-bit (microsoft store)",
   "language": "python",
   "name": "python3"
  },
  "language_info": {
   "codemirror_mode": {
    "name": "ipython",
    "version": 3
   },
   "file_extension": ".py",
   "mimetype": "text/x-python",
   "name": "python",
   "nbconvert_exporter": "python",
   "pygments_lexer": "ipython3",
   "version": "3.10.8"
  },
  "orig_nbformat": 4,
  "vscode": {
   "interpreter": {
    "hash": "d254ff784d44f558727eeadfbd5d791356dc55a4712aff3628d88258287382d0"
   }
  }
 },
 "nbformat": 4,
 "nbformat_minor": 2
}
